{
  "nbformat": 4,
  "nbformat_minor": 0,
  "metadata": {
    "colab": {
      "provenance": [],
      "authorship_tag": "ABX9TyOEechUQ6SaGiUBeUGUQhAj",
      "include_colab_link": true
    },
    "kernelspec": {
      "name": "python3",
      "display_name": "Python 3"
    },
    "language_info": {
      "name": "python"
    }
  },
  "cells": [
    {
      "cell_type": "markdown",
      "metadata": {
        "id": "view-in-github",
        "colab_type": "text"
      },
      "source": [
        "<a href=\"https://colab.research.google.com/github/ByronArenilla/Ejemplo2_IO1/blob/main/Arenilla_prueba1_IO_1.ipynb\" target=\"_parent\"><img src=\"https://colab.research.google.com/assets/colab-badge.svg\" alt=\"Open In Colab\"/></a>"
      ]
    },
    {
      "cell_type": "code",
      "execution_count": 6,
      "metadata": {
        "colab": {
          "base_uri": "https://localhost:8080/"
        },
        "id": "drwErNM02Y3H",
        "outputId": "38396346-132d-4bf4-f6ae-3c3591669817"
      },
      "outputs": [
        {
          "output_type": "stream",
          "name": "stdout",
          "text": [
            "Hola mundo\n"
          ]
        }
      ],
      "source": [
        "print(\"Buenasss mundo\")"
      ]
    },
    {
      "cell_type": "markdown",
      "source": [
        "# Primer ejercicio"
      ],
      "metadata": {
        "id": "wObMpkcI3yJy"
      }
    },
    {
      "cell_type": "code",
      "source": [
        "print(\"Buenasss,Byron\")"
      ],
      "metadata": {
        "colab": {
          "base_uri": "https://localhost:8080/"
        },
        "id": "B1g7uW4D4TGL",
        "outputId": "4d3e2589-9b85-48e2-9459-0271ea6c7adf"
      },
      "execution_count": 13,
      "outputs": [
        {
          "output_type": "stream",
          "name": "stdout",
          "text": [
            "Buenasss,Byron\n"
          ]
        }
      ]
    },
    {
      "cell_type": "markdown",
      "source": [
        "# Segundo ejercicio"
      ],
      "metadata": {
        "id": "szvijlR14kUr"
      }
    }
  ]
}